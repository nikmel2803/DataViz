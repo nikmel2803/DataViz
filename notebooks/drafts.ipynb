{
 "cells": [
  {
   "cell_type": "code",
   "execution_count": null,
   "metadata": {
    "collapsed": true
   },
   "outputs": [],
   "source": [
    "#data.head()"
   ]
  },
  {
   "cell_type": "code",
   "execution_count": null,
   "outputs": [],
   "source": [
    "suicides_by_country_and_year = data.groupby(['country', 'year'], as_index=False)\\\n",
    "    .aggregate({'suicides_no': 'sum'})"
   ],
   "metadata": {
    "collapsed": false,
    "pycharm": {
     "name": "#%%\n"
    }
   }
  },
  {
   "cell_type": "code",
   "execution_count": null,
   "outputs": [],
   "source": [
    "suicides_by_country = data.groupby('country')\\\n",
    "    .aggregate({'suicides_no': 'sum'})"
   ],
   "metadata": {
    "collapsed": false,
    "pycharm": {
     "name": "#%%\n"
    }
   }
  },
  {
   "cell_type": "code",
   "execution_count": null,
   "outputs": [],
   "source": [
    "sns.relplot(x=\"year\",\n",
    "            y=\"suicides_no\",\n",
    "            data=suicides_by_country_and_year.loc[data.country == \"Argentina\"],\n",
    "            kind=\"line\",\n",
    "            ci=None)\n",
    "\n"
   ],
   "metadata": {
    "collapsed": false,
    "pycharm": {
     "name": "#%%\n"
    }
   }
  },
  {
   "cell_type": "markdown",
   "source": [
    "## Graph for each country"
   ],
   "metadata": {
    "collapsed": false
   }
  },
  {
   "cell_type": "code",
   "execution_count": null,
   "outputs": [],
   "source": [
    "# sns.relplot(x=\"year\",\n",
    "#             y=\"suicides_no\",\n",
    "#             col=\"country\",\n",
    "#             height=5, \n",
    "#             col_wrap=1,\n",
    "#             aspect=1,\n",
    "#             data=suicides_by_country_and_year,\n",
    "#             kind=\"line\", ci=None)\n",
    "\n"
   ],
   "metadata": {
    "collapsed": false,
    "pycharm": {
     "name": "#%%\n"
    }
   }
  },
  {
   "cell_type": "code",
   "execution_count": null,
   "outputs": [],
   "source": [
    "# for country in suicides_by_country_and_year.country.unique():\n",
    "#   plot = sns.relplot(x=\"year\",\n",
    "#             y=\"suicides_no\",\n",
    "#             # height=5, \n",
    "#             # col_wrap=1,\n",
    "#             # aspect=1,\n",
    "#             data=suicides_by_country_and_year.query(\"country == @country\"),\n",
    "#             kind=\"line\", ci=None)  \n",
    "#   plot.set_titles(country)"
   ],
   "metadata": {
    "collapsed": false,
    "pycharm": {
     "name": "#%%\n"
    }
   }
  },
  {
   "cell_type": "code",
   "execution_count": null,
   "outputs": [],
   "source": [
    "data_russia = data.query(\"country == 'Russian Federation'\")\n"
   ],
   "metadata": {
    "collapsed": false,
    "pycharm": {
     "name": "#%%\n"
    }
   }
  },
  {
   "cell_type": "code",
   "execution_count": null,
   "outputs": [],
   "source": [
    "data_russia_by_year_sex = data_russia\\\n",
    "    .groupby(['year','sex'], as_index=False)\\\n",
    "    .aggregate({'suicides_no': 'sum'})"
   ],
   "metadata": {
    "collapsed": false,
    "pycharm": {
     "name": "#%%\n"
    }
   }
  },
  {
   "cell_type": "code",
   "execution_count": null,
   "outputs": [],
   "source": [
    "sns.lineplot(x='year', y='suicides_no', hue='sex', data=data_russia_by_year_sex)"
   ],
   "metadata": {
    "collapsed": false,
    "pycharm": {
     "name": "#%%\n"
    }
   }
  },
  {
   "cell_type": "code",
   "execution_count": null,
   "outputs": [],
   "source": [
    "# Количество суицидов по странам (по возрастанию)\n",
    "data_suicides_sum_by_country = data\\\n",
    "    .groupby(['country'], as_index=False)\\\n",
    "    .aggregate({'suicides_no': 'sum'})\\\n",
    "    .sort_values(axis=0, by='suicides_no')"
   ],
   "metadata": {
    "collapsed": false,
    "pycharm": {
     "name": "#%%\n"
    }
   }
  }
 ],
 "metadata": {
  "kernelspec": {
   "display_name": "Python 3",
   "language": "python",
   "name": "python3"
  },
  "language_info": {
   "codemirror_mode": {
    "name": "ipython",
    "version": 2
   },
   "file_extension": ".py",
   "mimetype": "text/x-python",
   "name": "python",
   "nbconvert_exporter": "python",
   "pygments_lexer": "ipython2",
   "version": "2.7.6"
  }
 },
 "nbformat": 4,
 "nbformat_minor": 0
}